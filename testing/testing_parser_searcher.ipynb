{
 "cells": [
  {
   "cell_type": "code",
   "execution_count": 38,
   "metadata": {},
   "outputs": [],
   "source": [
    "import os\n",
    "from parsers import *\n",
    "from searcher import *"
   ]
  },
  {
   "cell_type": "code",
   "execution_count": 39,
   "metadata": {},
   "outputs": [
    {
     "data": {
      "text/plain": [
       "'C:\\\\Users\\\\larrea\\\\Documents\\\\PhD\\\\Articles net\\\\testing'"
      ]
     },
     "execution_count": 39,
     "metadata": {},
     "output_type": "execute_result"
    }
   ],
   "source": [
    "os.getcwd()"
   ]
  },
  {
   "cell_type": "code",
   "execution_count": 40,
   "metadata": {},
   "outputs": [
    {
     "name": "stdout",
     "output_type": "stream",
     "text": [
      " Volume in drive C is Windows\n",
      " Volume Serial Number is 6CCD-0AE6\n",
      "\n",
      " Directory of C:\\Users\\larrea\\Documents\\PhD\\Articles net\\testing\n",
      "\n",
      "07/04/2020  14:25    <DIR>          .\n",
      "07/04/2020  14:25    <DIR>          ..\n",
      "07/04/2020  14:03    <DIR>          .ipynb_checkpoints\n",
      "07/04/2020  14:05    <DIR>          __pycache__\n",
      "04/04/2020  19:13                76 config.json\n",
      "07/04/2020  14:20    <DIR>          data\n",
      "07/04/2020  14:05    <DIR>          logs\n",
      "07/04/2020  00:51            24,596 meta 1.csv\n",
      "07/04/2020  13:13             2,341 parsers.py\n",
      "03/04/2020  15:42        22,531,144 scopus_test.csv\n",
      "07/04/2020  00:51         6,195,966 search 1.csv\n",
      "07/04/2020  14:25             1,304 searcher.py\n",
      "07/04/2020  14:23            46,626 Untitled.ipynb\n",
      "               7 File(s)     28,802,053 bytes\n",
      "               6 Dir(s)  106,454,171,648 bytes free\n"
     ]
    }
   ],
   "source": [
    "ls"
   ]
  },
  {
   "cell_type": "code",
   "execution_count": 41,
   "metadata": {},
   "outputs": [
    {
     "data": {
      "text/plain": [
       "{'Authors': 0,\n",
       " 'Author(s) ID': 1,\n",
       " 'Title': 2,\n",
       " 'Year': 3,\n",
       " 'Source title': 4,\n",
       " 'Volume': 5,\n",
       " 'Issue': 6,\n",
       " 'Art. No.': 7,\n",
       " 'Page start': 8,\n",
       " 'Page end': 9,\n",
       " 'Page count': 10,\n",
       " 'Cited by': 11,\n",
       " 'DOI': 12,\n",
       " 'Link': 13,\n",
       " 'Affiliations': 14,\n",
       " 'Authors with affiliations': 15,\n",
       " 'Abstract': 16,\n",
       " 'Author Keywords': 17,\n",
       " 'Index Keywords': 18,\n",
       " 'References': 19,\n",
       " 'Document Type': 20,\n",
       " 'Publication Stage': 21,\n",
       " 'Access Type': 22,\n",
       " 'Source': 23,\n",
       " 'EID': 24}"
      ]
     },
     "execution_count": 41,
     "metadata": {},
     "output_type": "execute_result"
    }
   ],
   "source": [
    "#using parser_csv to parse a csv file\n",
    "db_parsed = parser_csv('scopus_test.csv') \n",
    "db_parsed.header() #returns a dict with variables and index"
   ]
  },
  {
   "cell_type": "code",
   "execution_count": 42,
   "metadata": {},
   "outputs": [
    {
     "data": {
      "text/plain": [
       "[['Authors',\n",
       "  'Author(s) ID',\n",
       "  'Title',\n",
       "  'Year',\n",
       "  'Source title',\n",
       "  'Volume',\n",
       "  'Issue',\n",
       "  'Art. No.',\n",
       "  'Page start',\n",
       "  'Page end',\n",
       "  'Page count',\n",
       "  'Cited by',\n",
       "  'DOI',\n",
       "  'Link',\n",
       "  'Affiliations',\n",
       "  'Authors with affiliations',\n",
       "  'Abstract',\n",
       "  'Author Keywords',\n",
       "  'Index Keywords',\n",
       "  'References',\n",
       "  'Document Type',\n",
       "  'Publication Stage',\n",
       "  'Access Type',\n",
       "  'Source',\n",
       "  'EID'],\n",
       " ['Maranghi S., Parisi M.L., Facchini A., Rubino A., Kordas O., Basosi R.',\n",
       "  '56161757600;55424879000;7102434045;7102614022;56426518600;7003824787;',\n",
       "  'Integrating urban metabolism and life cycle assessment to analyse urban sustainability',\n",
       "  '2020',\n",
       "  'Ecological Indicators',\n",
       "  '112',\n",
       "  '',\n",
       "  ' 106074',\n",
       "  '',\n",
       "  '',\n",
       "  '',\n",
       "  '',\n",
       "  '10.1016/j.ecolind.2020.106074',\n",
       "  'https://www.scopus.com/inward/record.uri?eid=2-s2.0-85077780375&doi=10.1016%2fj.ecolind.2020.106074&partnerID=40&md5=973c533e677d3cc9750822015f2de088',\n",
       "  'R2ES Lab, Department of Biotechnology, Chemistry and Pharmacy, University of Siena, Via A. Moro 2, Siena, 53100, Italy; CSGI – Consortium for Colloid and Surface Science, via della Lastruccia 3, Sesto Fiorentino, 50019, Italy; IMT School for Advanced Studies Lucca, Piazza S. Francesco 19, Lucca, 55100, Italy; Jonian Department of Law, Economics and Environment, University of Bari Aldo Moro, Via Lago Maggiore angolo Via Ancona, Taranto, 74121, Italy; KTH Royal Institute of Technology, Teknikringen, 34, Stockholm, SE-100 44, Sweden; CNR-ICCOM, National Research Council – Institute for the Chemistry of OrganoMetallic Compounds, Via Madonna del Piano 10, 50019 Sesto Fiorentino, Firenze, Italy',\n",
       "  'Maranghi, S., R2ES Lab, Department of Biotechnology, Chemistry and Pharmacy, University of Siena, Via A. Moro 2, Siena, 53100, Italy, CSGI – Consortium for Colloid and Surface Science, via della Lastruccia 3, Sesto Fiorentino, 50019, Italy; Parisi, M.L., R2ES Lab, Department of Biotechnology, Chemistry and Pharmacy, University of Siena, Via A. Moro 2, Siena, 53100, Italy, CSGI – Consortium for Colloid and Surface Science, via della Lastruccia 3, Sesto Fiorentino, 50019, Italy, CNR-ICCOM, National Research Council – Institute for the Chemistry of OrganoMetallic Compounds, Via Madonna del Piano 10, 50019 Sesto Fiorentino, Firenze, Italy; Facchini, A., IMT School for Advanced Studies Lucca, Piazza S. Francesco 19, Lucca, 55100, Italy; Rubino, A., Jonian Department of Law, Economics and Environment, University of Bari Aldo Moro, Via Lago Maggiore angolo Via Ancona, Taranto, 74121, Italy; Kordas, O., KTH Royal Institute of Technology, Teknikringen, 34, Stockholm, SE-100 44, Sweden; Basosi, R., R2ES Lab, Department of Biotechnology, Chemistry and Pharmacy, University of Siena, Via A. Moro 2, Siena, 53100, Italy, CSGI – Consortium for Colloid and Surface Science, via della Lastruccia 3, Sesto Fiorentino, 50019, Italy, CNR-ICCOM, National Research Council – Institute for the Chemistry of OrganoMetallic Compounds, Via Madonna del Piano 10, 50019 Sesto Fiorentino, Firenze, Italy',\n",
       "  'In recent decades, the close correlation between urban development and the concept of sustainability has become increasingly evident and important. This is demonstrated by European Union policies concerning EU cities and the United Nations 2030 Agenda for Sustainable Development, including sustainable development goal (SDG) 11: Sustainable cities and communities. In the context of increasing urbanization, it is essential to find innovative methods to manage urban living systems and to establish a standard method for assessing the environmental performance of cities and their infrastructures. A unified and complete methodology for assessing policies for urban sustainability that takes into consideration urban complexity is currently lacking. In this paper, we integrate the Urban Metabolism and Lice Cycle Assessment approach to assess urban sustainability by developing a multi-dimensional measure framework applied to cities. Our aim is to provide a holistic view of the city and unveiling the interconnections among a set of urban dimensions identified by means of an approach based on complex systems science and complex networks. We also propose a specific survey to investigate the city in a multi-dimensional perspective and suggest key indicators based on network centrality measures for investigating and comparing the interconnections among a set of urban dimensions specifically identified (e.g. energy, material, transport). Finally, a case study based on Beijing is considered to show potential applications. © 2020 Elsevier Ltd',\n",
       "  'City; Complex system; Life cycle assessment; Urban development; Urban metabolism; Urban thermodynamics',\n",
       "  'Complex networks; Economic and social effects; Environmental management; Large scale systems; Life cycle; Metabolism; Planning; Sustainable development; Thermodynamics; Urban growth; Assessment approaches; City; Environmental performance; European Union policy; Life Cycle Assessment (LCA); Urban development; Urban metabolisms; Urban sustainability; Urban transportation; Phthiraptera',\n",
       "  \"Alberti, J., Balaguera, A., Brodhag, C., Fullana-i-Palmer, P., Towards life cycle sustainability assessment of cities. A review of background knowledge (2017) Sci. Total Environ., 609, pp. 1049-1063; Axelrod, R., Cohen, M.D., Harnessing Complexity: Organizational Implications of a Scientific Frontier (2001), Basic Books ISBN: 0-465-00550-0; Basosi, R., Casazza, M., Schnitzer, H., Energy policy within and beyond urban systems (2017) Energy Policy, 310-303; Batty, M., A theory of city size (2013) Science, 340, pp. 1418-1419; Beloin-Saint-Pierre, D., Rugani, B., Lasvaux, S., Mailhac, A., Popovici, E., Sibiude, G., Benetto, E., Schiopu, N., A review of urban metabolism studies to identify key methodological choices for future harmonization and implementation (2017) J. Clean. Prod., 163, pp. S223-S540; Böhringer, C., Jochem, P.E.P., Measuring the immeasurable — a survey of sustainability indices (2007) Ecol. Econ., 63, pp. 1-8; Bravi, M., Parisi, M.L., Tiezzi, E., Basosi, R., Life Cycle Assessment of advanced technologies for photovoltaic panels production (2010) Int. J. Heat Technol., 28 (2), pp. 133-139; Chester, M., Pincetl, S., Allenby, B., Avoiding unintended tradeoffs by integrating life-cycle impact assessment with urban metabolism (2012) Curr. Op. Environ. Sust., 4, pp. 451-457; Decker, H., Elliott, S., Smith, F.A., Blake, D.R., Sherwood, R.F., Energy and material flow through the urban ecosystem (2000) Annu. Rev. Energy Environ., 25, pp. 685-740; Ekvall, T., Weidema, B.P., System boundaries and input data in consequential life cycle inventory analysis (2004) Int. J. Life Cycle Assess., 9 (3), pp. 161-171; Endreny, T., Santagata, R., Perna, A., De Stefano, C., Rallo, R.F., Ulgiati, S., Implementing and managing urban forests: a much needed conservation strategy to increase ecosystem services and urban wellbeing (2017) Ecol. Modell., 360, pp. 328-335; Estrada, E., Knight, P., A First Course in Network Theory (2015), Oxford University Press; (2016), European Commission and European Investment Bank “Smart Cities & Sustainable Development” Program in Europe; (2008), European Commission Package of Implementation measures for the EU's objectives on climate change and renewable energy for 2020, Brussels; (2014), European Commission, 2014. A policy framework for climate and energy in the period from 2020 to 2030. COM 15 final, Brussels; (2014), European Parliament Mapping Smart cities in EU; Facchini, A., Kennedy, C., Stewart, I., Mele, R., The energy metabolism of megacities (2017) Appl. Energ., 186, pp. 86-95; Fath, B.D., Scharler, U.M., Ulanowicz, R.E., Hannon, B., Ecological network analysis: network construction (2007) Ecol. Model., 208 (1), pp. 49-55; Fieguth, P., An Introduction to Complex Systems (2017), Springer ISBN: 978-3-319-44606-6; Filchakova, N., Robinson, D., Scartezzini, J.L., Quo vadis thermodynamics and the city: a critical review of applications od thermodynamic methods to urban systems (2012) Ecodynamics, the Prigogine legacy, , C.A. Brebbia Wessex Institute of Technology, WIT PRESS UK ISBN: 978-1-84564-654-7; Giampietro, M., Mayumi, K., Multiple-scale integrated assessment of societal metabolism: introducing the approach (2000) Popul. Environ., 22 (2), pp. 109-153; Goldstein, B., Birkved, M., Maj-Britt, Q., Hauschild, M., Quantification of Urban Metabolism through coupling with the Life Cycle assessment framework: concept development and case study (2013) Environ. Res. Lett., 8; Huang, L., Wu, J., Lijiao, Y., Defining and measuring urban sustainability: a review of indicators (2015) Landscape Ecol., 30, pp. 1175-1193; Kennedy, C., Cuddihy, J., Engel-Yan, J., The changing metabolism of cities (2007) J. Ind. Ecol., 11, pp. 43-59; Kennedy, C., Hoornweg, D., Mainstreaming urban metabolism (2012) J. Ind. Ecol., 16, pp. 780-782; Kennedy, C., Stewart, I.D., Ibrahim, N., Facchini, A., Mele, R., Developing a multi-layered indicator set for urban metabolism studies in megacities (2014) Ecol. Indic., 47, pp. 7-15; Kennedy, C.A., Stewart, I., Facchini, A., Cersosimo, I., Mele, R., Chen, B., Uda, M., Sahin, A.D., Energy and material flows of megacities (2015) Proc. Natl. Acad. Sci. U.S.A., 112 (19), pp. 5985-5990; Maranghi, S., Parisi, M.L., Basosi, R., Sinicropi, A., Environmental profile of the manufacturing process of perovskite photovoltaics: harmonization of life cycle assessment studies (2019) Energies, 12, p. 3746; Northrop, R.B., Introduction to Complexity and Complex Systems (2017), CRC Press; Parisi, M.L., Maranghi, S., Sinicropi, A., Basosi, R., Development of dye sensitized solar cells: a life cycle perspective for the environmental and market potential assessment of a renewable energy technology (2013) Int. J. Heat Technol., 31 (2), pp. 143-148; Parisi, M.L., Ferrara, N., Torsello, L., Basosi, R., Life cycle assessment of atmospheric emission profiles of the Italian geothermal power plants (2019) J. Clean. Prod., 234, pp. 881-894; Petit-Boix, A., Llorach-Massana, P., Sanjuan-Delmás, D., Sierra-Perez, J., Vinyes, E., Gabarell, X., Rieradevall, J., Application of life cycle thinking towards sustainable cities (2017) J. Clean. Prod., 166, pp. 939-951; Pincetl, S., Bunje, P., Holmes, T., An expanded urban metabolism method: toward a systems approach for assessing urban energy processes and causes (2012) Landsc. Urban Plan., 107, pp. 193-202; Prigogine, I., The End of Certainty (1997), Free Press ISBN: 0684837056; Pulselli, F.M., Coscieme, L., Neri, L., Regoli, A., Sutton, P.C., Lemmi, A., Bastianoni, S., The world economy in a cube: a more rational structural representation of sustainability (2015) Global Environ. Change, 35, pp. 41-51; Rossi, F., Parisi, M.L., Maranghi, S., Manfirda, G., Basosi, R., Sinicropi, A., Environmental impact analysis applied to solar pasteurization systems (2019) J. Clean. Prod., 212, pp. 1368-1380; Rossi, F., Parisi, M.L., Maranghi, S., Basosi, R., Sinicropi, A., Environmental analysis of a nano-grid: a Life Cycle Assessment (2020) Sci. Total Environ., 700; Scala, A., D'Agostino, G., Networks of Networks: The Last Frontier of Complexity (2014), Springer ISBN 978-3-319-03518-5; Shahrokni, H., Lazarevic, D., Brandt, N., Smart urban metabolism: toward a real-time understanding of the energy and material flows of city and its citizens (2014) Urban Technol., 22, pp. 65-86; Shahrokni, H., Årman, L., Lazarevic, D., Nilsson, A., Brandt, N., Implementing smart urban metabolism in the Stockholm royal seaport – smart city SRS (2015) J. Ind. Ecol., 19 (5), pp. 917-929; Strogatz, S., Nonlinear Dynamics and Chaos (2016), 2nd ed. CRC Press ISBN: 0813349109; (2016), The World Bank Urban population data; Tiezzi, E., WIT, Steps Towards an Evolutionary Physics (2006), WIT Press ISBN: 978-1-84564-035-4; UN-Habitat, Cities and Climate Change: Global Report on Human Settlements (2011), Earthscan London ISBN 978-1-84971-370-2; (2012), UN-Habitat Prosperity of Cities: State of the World's Cities 2012/2013; Valdivia, S., Ugaya, C.M.L., Sonnemann, G., Hildenbrand, J., (2011), Towards a life cycle sustainability assessment. Making informed choices on products, Paris; Weidema, B., Avoiding co-product allocation in life-cycle assessment (2000) J. Ind. Ecol., 4 (3), pp. 11-33; Wilson, A.G., The “thermodynamics” of the city (2009) Complexity and Spatial Networks, pp. 11-31. , A. Reggiani P. Nijkamp Springer ISBN: 978-3-642-01554-0; Waldrop, M.M., Complexity: The Emerging Science at the Edge of Order and Chaos (1993), Touchstone New York; Wolfram, M., Frantzeskaki, N., Maschmeyer, S., Cities, systems and sustainability: status and perspectives of research on urban transformations (2016) Curr. Opin. Environ. Sustain., 22, pp. 18-25; Zellner, M., Campbell, S.D., Planning for deep-rooted problems: what can we learn from aligning complex systems and wicked problems? (2015) Plann. Theory Practice, 16 (4), pp. 457-478; Zhang, Y., Lu, H., Fath, B.D., Zheng, H., Modelling urban nitrogen metabolic processes based on ecological network analysis: a case of study in Beijing, China (2016) Ecol. Model., 337, pp. 29-38; Zhang, Y., Yang, Z., Fath, B.D., Li, S., Ecological network analysis of an urban energy metabolic system: model development, and a case study of four Chinese cities (2010) Ecol. Model., 221 (16), pp. 1865-1879; Zhang, Y., Zheng, H., Fath, B.D., Ecological network analysis of an industrial symbiosis system: a case study of the Shandong Lubei eco-industrial park (2015) Ecol. Model., 306, pp. 174-184\",\n",
       "  'Article',\n",
       "  'Final',\n",
       "  '',\n",
       "  'Scopus',\n",
       "  '2-s2.0-85077780375'],\n",
       " ['Ezici B., Eğilmez G., Gedik R.',\n",
       "  '57212882626;55248346200;56358332700;',\n",
       "  'Assessing the eco-efficiency of U.S. manufacturing industries with a focus on renewable vs. non-renewable energy use: An integrated time series MRIO and DEA approach',\n",
       "  '2020',\n",
       "  'Journal of Cleaner Production',\n",
       "  '253',\n",
       "  '',\n",
       "  ' 119630',\n",
       "  '',\n",
       "  '',\n",
       "  '',\n",
       "  '',\n",
       "  '10.1016/j.jclepro.2019.119630',\n",
       "  'https://www.scopus.com/inward/record.uri?eid=2-s2.0-85077448211&doi=10.1016%2fj.jclepro.2019.119630&partnerID=40&md5=430e321b3178bc70e1e5a84aadfed46c',\n",
       "  'Dept. of Mechanical and Industrial Engineering, University of New Haven, West Haven, CT, United States; Department of Mechanical and Industrial Engineering, University of New Haven, West Haven, CT, United States; Department of Management, Quinnipiac University, Hamden, CT, United States',\n",
       "  'Ezici, B., Dept. of Mechanical and Industrial Engineering, University of New Haven, West Haven, CT, United States; Eğilmez, G., Department of Mechanical and Industrial Engineering, University of New Haven, West Haven, CT, United States; Gedik, R., Department of Management, Quinnipiac University, Hamden, CT, United States',\n",
       "  'This study investigated the global supply chain-linked renewable and nonrenewable energy use impacts and economic output of U.S. manufacturing industries over a twenty-year period. Considering energy use impacts and economic outputs together within the scope of a global-trade-linked, cradle-to-gate life cycle provides a comprehensive understanding of the environmental and economic impacts of industrial activities. In the first phase of the methodology, twenty multi-region input-output models were built to assess the energy and economic output nexus using a time series approach. Sixteen energy carriers were considered and aggregated in terms of renewable and nonrenewable energy use impacts. The second phase of the methodology focused on benchmarking U.S. manufacturing industries’ eco-efficiency, considering renewable to nonrenewable energy use and economic output. To accomplish this, data envelopment analysis (DEA) models were developed, and two benchmarking (eco-efficiency) measures were proposed, namely: renewability ratio (RR) and economic-output-induced renewability ratio (E-RR). The results indicated that the economic output of the manufacturing industries exhibited a steady, sustainable growth. Similar growth was observed in nonrenewable energy use. In contrast, the trend in renewable energy use was seen to be stagnant. No statistically significant improvement was observed in either the RR or E-RR measures, which were found to parallel the multi-region input-output analysis (MRIO) results. Although an increase in both the mean RR (0.3–0.4) and the mean E-RR (0.38–0.52) scores was recorded from 1995 to 2014, this was concluded to be unsatisfactory, since the majority of the industries’ eco-efficiency results were still below 0.5. Such an unsatisfactory result could be attributed to an imbalanced growth in nonrenewable energy use and economic output relative to renewable energy use. The findings of this study suggest that substantial policy changes are required immediately to shift the negative trend in renewable energy use to comply with UN Sustainability Development Goals 7 and 13. © 2019 Elsevier Ltd',\n",
       "  'Data envelopment analysis (DEA); Manufacturing; Multi-region input-output (MRIO) analysis; Renewability ratio; Renewable energy; Sustainable development',\n",
       "  'Benchmarking; Data envelopment analysis; Economic analysis; Economic and social effects; Manufacture; Supply chains; Sustainable development; Time series; Environmental and economic impacts; Input output analysis; Input-output; Manufacturing industries; Multi-region input-output models; Non-renewable energy use; Renewability ratio; Renewable energies; Energy utilization',\n",
       "  \"Abbod, K., Multi-region Input-Output-Based Carbon and Energy Footprint Analysis of U.S. Manufacturing (2016), University of New Haven; Ali, Y., Pretaroli, R., Socci, C., Severini, F., Carbon and water footprint accounts of Italy: a Multi-Region Input-Output approach (2018) Renew. Sustain. Energy Rev., 81 (May), pp. 1813-1824; Andrew, R., Peters, G.P., Lennox, J., Approximation and regional aggregation in multi-regional input-output analysis for national carbon footprint accounting (2009) Econ. Syst. Res., 21 (3), pp. 311-335; Balta, M.T., Dincer, I., Hepbasli, A., Potential methods for geothermal-based hydrogen production (2010) Int. J. Hydrogen Energy, 35 (10), pp. 4949-4961; BEA - Gross Output of U.S. Manufacturing, (2018), https://apps.bea.gov/iTable/iTable.cfm?ReqID=51&step=1#reqid=51&step=2&isuri=1, Retrieved November 23, 2018, from; Charnes, A., Cooper, W.W., Rhodes, E., Measuring the efficiency of decision-making units (1978) Eur. J. Oper. Res., 3 (4). , 339–338; Chen, B., Li, J.S., Wu, X.F., Han, M.Y., Zeng, L., Li, Z., Chen, G.Q., Global energy flows embodied in international trade: a combination of environmentally extended input–output analysis and complex network analysis (2018) Appl. Energy, 210, pp. 98-107. , July 2017; Chenel, S., (2014) ScienceDirect Eco-Efficiency Analysis of Spanish WWTPs Using the LCA þ DEA Method, 8; Chien, T., Hu, J.L., Renewable energy and macroeconomic efficiency of OECD and non-OECD economies (2007) Energy Policy, 35 (7), pp. 3606-3615; Cooper, W.W., Seiford, L.M., Zhu, J., (2011) Handbook on Data Envelopment Analysis, Vol. 164).. , Springer US Boston, MA; Coskun, C., Oktay, Z., Dincer, I., Investigation of some renewable energy and exergy parameters for two Geothermal District Heating Systems (2010) Int. J. Exergy, 8 (1), p. 1; Coskun, C., Oktay, Z., Dincer, I., Performance evaluations of a geothermal power plant (2011) Appl. Therm. Eng., 31 (17-18), pp. 4074-4082; Coskun, C., Oktay, Z., Dincer, I., Thermodynamic analyses and case studies of geothermal based multi-generation systems (2012) J. Clean. Prod., 32, pp. 71-80; Crude Oil Prices - 70 Year historical chart, (2019), https://www.macrotrends.net/1369/crude-oil-price-history-chart, Retrieved January 11, 2019, from; Database, W., I. O 2018 (n.d.). (No Title. WIOD); Dietzenbacher, E., Los, B., Stehrer, R., Timmer, M., de Vries, G., The construction of world input-output Tables in the wiod project (2013) Econ. Syst. Res., 25 (1), pp. 71-98; Egilmez, G., Bhutta, K., Erenay, B., Park, Y.S., Gedik, R., Carbon footprint stock analysis of US manufacturing: a time series input-output LCA (2017) Ind. Manag. Data Syst., 117 (5), pp. 853-872; Egilmez, G., Kucukvar, M., Park, Y.S., Supply chain-linked sustainability assessment of the US manufacturing: an ecosystem perspective (2015) Sustain. Prod. Consum., 5, pp. 65-81. , October 2015; Egilmez, G., Kucukvar, M., Park, Y.S., Mode-specific eco-efficiency analysis of the freight transportation in the USA: an integrated life cycle assessment and linear programming approach (2016) World Rev. Intermodal Transp. Res., 6 (1), p. 16; Egilmez, G., Kucukvar, M., Park, Y.S., Supply chain-linked sustainability assessment of the US manufacturing: an ecosystem perspective (2016) Sustain. Prod. Consum., 5, pp. 65-81; Egilmez, G., Kucukvar, M., Tatari, O., Sustainability assessment of U.S. manufacturing sectors: an economic input output-based frontier approach (2013) J. Clean. Prod., 53, pp. 91-102; Egilmez, G., Kucukvar, M., Tatari, O., Bhutta, M.K.S., Supply chain sustainability assessment of the U.S. food manufacturing sectors: a life cycle-based frontier approach (2014) Resour. Conserv. Recycl., 82, pp. 8-20; EPA, Inventory of U.S. greenhouse gas emissions and sinks. 1990-2011 (2019), https://www.epa.gov/sites/production/files/2019-04/documents/us-ghg-inventory-2019-main-text.pdf, Retrieved from; Europe's circular-economy opportunity, (2015), https://www.mckinsey.com/business-functions/sustainability/our-insights/europes-circular-economy-opportunity, Retrieved from; Fritz-Morgenthal, S., Chris, G., Carola, M., Marija, M., Virginia, S., The Global Financial Crisis and its Impact on Renewable Energy Finance. Frankfurt, Germany (2009); Egilmez, G., McAvoy, D., Benchmarking road safety of U.S. states: A DEA-based Malmquist productivity index approach (2013) Accid. Anal. Prev., 53, pp. 55-64; Egilmez, G., Muhammad Aslaam Mohamed Abdul Ghani, N., Gedik, R., Industrial Management & Data Systems Article Information: Layer Analysis of CO 2 Sources in the U. S. Economic Supply Chains: an Input Output LCA Study Abstract (2017); Hamilton, T.G.A., Kelly, S., Low carbon energy scenarios for sub-Saharan Africa: an input-output analysis on the effects of universal energy access and economic growth (2017) Energy Policy, 105, pp. 303-319. , July 2016; Hepbasli, A., A comparative investigation of various greenhouse heating options using exergy analysis method (2011) Appl. Energy, 88 (12), pp. 4411-4423; Hong, J., Shen, G.Q., Guo, S., Xue, F., Zheng, W., Energy use embodied in China's construction industry: a multi-regional input-output analysis (2016) Renew. Sustain. Energy Rev., 53, pp. 1303-1312; Honma, S., Hu, J.L., A panel data parametric frontier technique for measuring total-factor energy efficiency: an application to Japanese regions (2014) Energy, 78, pp. 732-739; Hosseinzadeh-Bandbafha, H., Safarzadeh, D., Ahmadi, E., Nabavi-Pelesaraei, A., Hosseinzadeh-Bandbafha, E., Applying data envelopment analysis to evaluation of energy efficiency and decreasing of greenhouse gas emissions of fattening farms (2017) Energy, 120, pp. 652-662; Huppes, G., Ishikawa, M., Eco-efficiency and its xsTerminology (2005) J. Ind. Ecol., 9 (4), pp. 43-46; Iribarren, D., Vázquez-Rowe, I., Is labor a suitable input in LCA + DEA studies? Insights on the combined use of economic, environmental and social parameters (2013) Soc. Sci., 2 (3), pp. 114-130; (2012), pp. 8374-8381. , Kanemoto (2011) should be re-written in the Table 1 as “Lenzen et al. And citation is as follows:Lenzen, M., Kanemoto, K., Moran, D., & Geschke, A. Mapping the structure of the world economy. Environ. Sci. Technol., 46(15); Kouchaki-Penchah, H., Nabavi-Pelesaraei, A., O'Dwyer, J., Sharifi, M., Environmental management of tea production using joint of life cycle assessment and data envelopment analysis approaches (2017) Environ. Prog. Sustain. Energy, 36 (4), pp. 1116-1122; Kucukvar, M., Cansev, B., Egilmez, G., Onat, N.C., Samadi, H., Energy-climate-manufacturing nexus: new insights from the regional and global supply chains of manufacturing industries (2016) Appl. Energy, 184, pp. 889-904; Kucukvar, M., Onat, N.C., Abdella, G.M., Tatari, O., Assessing regional and global environmental footprints and value added of the largest food producers in the world (2019) Resour. Conserv. Recycl., pp. 187-197; Kucukvar, M., Tatari, O., A comprehensive life cycle analysis of cofiring algae in a coal power plant as a solution for achieving sustainable energy (2011) Energy, 36 (11), pp. 6352-6357; Lenzen, M., Wood, R., Wiedmann, T., Uncertainty analysis for multi-region input - output models - a case study of the UK'S carbon footprint (2010) Econ. Syst. Res., 22 (1), pp. 43-63; Leontief, W., Environmental repercussions and the economic structure: an input-output approach (1970) REStat, 52 (3), pp. 262-271. , http://www.jstor.org/discover/10.2307/1926294?uid=3739840&uid=2129&uid=2&uid=70&uid=4&uid=3739256&sid=21101262763267, Retrieved from; Levinson, M., U.S. Manufacturing in international perspective (2018); Lindner, S., Guan, D., A hybrid-unit energy input-output model to evaluate embodied energy and life cycle emissions for China's economy (2014) J. Ind. Ecol., 18 (2), pp. 201-211; Macarthur, E., Growth within: a Circular Economy Vision for a Competitive Europe (2015), Ellen MacArthur Foundation; Miketa, A., Mulder, P., Energy productivity across developed and developing countries in 10 manufacturing sectors: patterns of growth and convergence (2005) Energy Econ., 27 (3), pp. 429-453; Miller, R.E., Blair, P.D., Input-output analysis: Foundations and extensions (2009), second edition; Mukherjee, K., Energy use efficiency in U.S. manufacturing: a nonparametric analysis (2008) Energy Econ., 30 (1), pp. 76-96; Nabavi-Pelesaraei, A., Abdi, R., Rafiee, S., Bagheri, I., Determination of efficient and inefficient units for watermelon production-a case study: Guilan province of Iran (2016) J. Saudi Soc. Agric. Sci., 15 (2), pp. 162-170; Nabavi-Pelesaraei, A., Abdi, R., Rafiee, S., Mobtaker, H.G., Optimization of energy required and greenhouse gas emissions analysis for orange producers using data envelopment analysis approach (2014) J. Clean. Prod., 65, pp. 311-317; Nabavi-Pelesaraei, A., Abdi, R., Rafiee, S., Taromi, K., Applying data envelopment analysis approach to improve energy efficiency and reduce greenhouse gas emission of rice production (2014) Eng. Agric., Environ. Food, 7 (4), pp. 155-162; Nakano, S., Arai, S., Washizu, A., Development and application of an inter-regional input-output table for analysis of a next generation energy system (2018) Renew. Sustain. Energy Rev., 82 (July), pp. 2834-2842; NTIA, American recovery and reinvestment Act of 2009. Washington, DC (2009), https://www.govinfo.gov/content/pkg/BILLS-111hr1enr/pdf/BILLS-111hr1enr.pdf, Retrieved from; Owen, A., Scott, K., Barrett, J., Identifying critical supply chains and final products: An input-output approach to exploring the energy-water-food nexus (2018) Appl. Energy, 210, pp. 632-642; Palmer, G., An input-output based net-energy assessment of an electricity supply industry (2017) Energy, 141, pp. 1504-1516; Pan, L., Liu, P., Li, Z., Wang, Y., A dynamic input–output method for energy system modeling and analysis (2017) Chemical Engineering Research and Design; Park, Y.S., Egilmez, G., Kucukvar, M., A novel life cycle-based principal component analysis framework for eco-efficiency analysis: case of the United States manufacturing and transportation nexus (2015) J. Clean. Prod., 92, pp. 327-342; Park, Y.S., Egilmez, G., Kucukvar, M., Emergy and end-point impact assessment of agricultural and food production in the United States: a supply chain-linked Ecologically-based Life Cycle Assessment (2016) Ecol. Indicat., 62, pp. 117-137; Phylipsen, G.J.M., Blok, K., Worrell, E., International comparisons of energy efficiency-Methodologies for the manufacturing industry (1997) Energy Policy, 25 (7-9), pp. 715-725; Qasemi-Kordkheili, P., (2014), http://ijee.ieefoundation.org/vol5/issue2/IJEE_05_v5n2.pdf, Nabavi-Pelesaraei, A. Optimization of energy required and potential of greenhouse gas emissions reductions for nectarine production using data envelopment analysis approach. Int. J. Energy Environ., 5(2), 207–218. Retrieved from; Ramanathan, R., An analysis of energy consumption and carbon dioxide emissions in countries of the Middle East and North Africa (2005) Energy, 30, pp. 2831-2842; Rocco, M.V., Colombo, E., Internalization of human labor in embodied energy analysis: Definition and application of a novel approach based on environmentally extended Input-Output analysis (2016) Appl. Energy, 182, pp. 590-601; Sembill, D., Dreyer, K., (2009) Granting time—restricting time—wasting time? Subtle patterns in vocational schooling BT - VET boost: towards a theory of professional competencies—essays in Honor of Frank Achtenhagen, 164; Shabanzadeh-Khoshrody, M., Azadi, H., Khajooeipour, A., Nabavi-Pelesaraei, A., Analytical investigation of the effects of dam construction on the productivity and efficiency of farmers (2016) J. Clean. Prod., 135, pp. 549-557; Shafiee, S., Topal, E., When will fossil fuel reserves be diminished? (2009) Energy Policy, 37 (1), pp. 181-189; Sözen, A., Alp, I., Comparison of Turkey's performance of greenhouse gas emissions and local/regional pollutants with EU countries (2009) Energy Policy, 37 (12), pp. 5007-5018; Su, B., Ang, B.W., Input-output analysis of CO2emissions embodied in trade: a multi-region model for China (2014) Appl. Energy, 114, pp. 377-384; Suh, S., Lenzen, M., Treloar, G.J., Hondo, H., Horvath, A., Huppes, G., System boundary selection in life-cycle inventories using hybrid approaches (2004) Environ. Sci. Technol., 38 (3), pp. 657-664; Sun, X., Li, J., Qiao, H., Zhang, B., Energy implications of China's regional development: new insights from multi-regional input-output analysis (2017) Appl. Energy, 196, pp. 118-131; The World Bank, Trade % of U.S. GDP (2018), https://data.worldbank.org/indicator/NE.TRD.GNFS.ZS?locations=AF-US, Retrieved from; U.S. Energy Information Administration, Nonrenewable energy sources (2018), https://www.eia.gov/energyexplained/?page=nonrenewable_home, Retrieved November 24, 2018, from; U.S. Energy Information Administration, Use of energy in the United States https://www.eia.gov/energyexplained/index.php?page=us_energy_use, n.d., Retrieved November 23, 2018, from; Vázquez-Rowe, I., Villanueva-Rey, P., Iribarren, D., Teresa Moreira, M., Feijoo, G., Joint life cycle assessment and data envelopment analysis of grape production for vinification in the Rías Baixas appellation (NW Spain) (2012) J. Clean. Prod., 27, pp. 92-102; Wiebe, K.S., Bruckner, M., Giljum, S., Lutz, C., Calculating energy-related CO 2 emissions embodied in international trade using a global input-output model (2012) Econ. Syst. Res., 24 (2), pp. 113-139; Wiedmann, T., A review of recent multi-region input-output models used for consumption-based emission and resource accounting (2009) Ecol. Econ., 69 (2), pp. 211-222; Wiedmann, T., Wilting, H.C., Lenzen, M., Lutter, S., Palm, V., Quo Vadis MRIO? Methodological, data and institutional requirements for multi-region input-output analysis (2011) Ecol. Econ., 70 (11), pp. 1937-1945; Wu, X.F., Chen, G.Q., Energy use by Chinese economy: a systems cross-scale input-output analysis (2017) Energy Policy, 108, pp. 81-90. , May; Xia, X.H., Chen, B., Wu, X.D., Hu, Y., Liu, D.H., Hu, C.Y., Coal use for world economy: provision and transfer network by multi-region input-output analysis (2017) J. Clean. Prod., 143, pp. 125-144; Zhang, B., Chen, Z.M., Xia, X.H., Xu, X.Y., Chen, Y.B., The impact of domestic trade on China's regional energy uses: a multi-regional input-output modeling (2013) Energy Policy, 63, pp. 1169-1181; Zhang, B., Qiao, H., Chen, Z.M., Chen, B., Growth in embodied energy transfers via China's domestic trade: evidence from multi-regional input–output analysis (2016) Appl. Energy, 184, pp. 1093-1105; Zhang, Y., Zheng, H., Yang, Z., Su, M., Liu, G., Li, Y., Multi-regional input-output model and ecological network analysis for regional embodied energy accounting in China (2015) Energy Policy, 86, pp. 651-663\",\n",
       "  'Article',\n",
       "  'Final',\n",
       "  '',\n",
       "  'Scopus',\n",
       "  '2-s2.0-85077448211']]"
      ]
     },
     "execution_count": 42,
     "metadata": {},
     "output_type": "execute_result"
    }
   ],
   "source": [
    "#parser_csv.db is a list \n",
    "db_parsed.db[0:3]"
   ]
  },
  {
   "cell_type": "code",
   "execution_count": 43,
   "metadata": {},
   "outputs": [
    {
     "name": "stdout",
     "output_type": "stream",
     "text": [
      "-  Quantifying the direct network effect for online platforms supporting industrial symbiosis: an agent-based simulation study\n",
      "Journal: Ecological Economics\n",
      "-  Identifying hotspots of sectors and supply chain paths for electricity conservation in China\n",
      "Journal: Journal of Cleaner Production\n",
      "-  Techno-economic assessment of dry fermentation in household biogas units through co-digestion of manure and agricultural crop residues in Egypt\n",
      "Journal: Renewable Energy\n",
      "-  A critical review of different factors governing the fate of pesticides in soil under biochar application\n",
      "Journal: Science of the Total Environment\n",
      "-  Development of an alkaline/acid pre-treatment and anaerobic digestion (APAD) process for methane generation from waste activated sludge\n",
      "Journal: Science of the Total Environment\n"
     ]
    }
   ],
   "source": [
    "#methods in parser_csv class can be used to be iterated, they require row number\n",
    "for i in range(5,10):\n",
    "    print('-  ' + db_parsed.title(i))\n",
    "    print('Journal: ' + db_parsed.source(i))"
   ]
  },
  {
   "cell_type": "code",
   "execution_count": 44,
   "metadata": {},
   "outputs": [
    {
     "name": "stdout",
     "output_type": "stream",
     "text": [
      "- Integrating urban metabolism and life cycle assessment to analyse urban sustainability\n",
      "EID:  85077780375\n",
      "- Assessing the eco-efficiency of U.S. manufacturing industries with a focus on renewable vs. non-renewable energy use: An integrated time series MRIO and DEA approach\n",
      "EID:  85077448211\n",
      "- Revisiting triple bottom line within the context of sustainable construction: A systematic review\n",
      "EID:  85077095053\n",
      "- Life cycle assessment of the use of nanomaterials in biogas production from anaerobic digestion of manure\n",
      "EID:  85073819689\n"
     ]
    }
   ],
   "source": [
    "#to get the scopus id\n",
    "for i in range(1,5):\n",
    "    print('- ' + db_parsed.title(i))\n",
    "    print('EID:  ' + db_parsed.EID(i))\n",
    "    "
   ]
  },
  {
   "cell_type": "code",
   "execution_count": 45,
   "metadata": {},
   "outputs": [
    {
     "data": {
      "text/html": [
       "<div>\n",
       "<style scoped>\n",
       "    .dataframe tbody tr th:only-of-type {\n",
       "        vertical-align: middle;\n",
       "    }\n",
       "\n",
       "    .dataframe tbody tr th {\n",
       "        vertical-align: top;\n",
       "    }\n",
       "\n",
       "    .dataframe thead th {\n",
       "        text-align: right;\n",
       "    }\n",
       "</style>\n",
       "<table border=\"1\" class=\"dataframe\">\n",
       "  <thead>\n",
       "    <tr style=\"text-align: right;\">\n",
       "      <th></th>\n",
       "      <th>Authors</th>\n",
       "      <th>Author(s) ID</th>\n",
       "      <th>Title</th>\n",
       "      <th>Year</th>\n",
       "      <th>Source title</th>\n",
       "      <th>Volume</th>\n",
       "      <th>Issue</th>\n",
       "      <th>Art. No.</th>\n",
       "      <th>Page start</th>\n",
       "      <th>Page end</th>\n",
       "      <th>...</th>\n",
       "      <th>Authors with affiliations</th>\n",
       "      <th>Abstract</th>\n",
       "      <th>Author Keywords</th>\n",
       "      <th>Index Keywords</th>\n",
       "      <th>References</th>\n",
       "      <th>Document Type</th>\n",
       "      <th>Publication Stage</th>\n",
       "      <th>Access Type</th>\n",
       "      <th>Source</th>\n",
       "      <th>EID</th>\n",
       "    </tr>\n",
       "  </thead>\n",
       "  <tbody>\n",
       "    <tr>\n",
       "      <td>0</td>\n",
       "      <td>Maranghi S., Parisi M.L., Facchini A., Rubino ...</td>\n",
       "      <td>56161757600;55424879000;7102434045;7102614022;...</td>\n",
       "      <td>Integrating urban metabolism and life cycle as...</td>\n",
       "      <td>2020</td>\n",
       "      <td>Ecological Indicators</td>\n",
       "      <td>112</td>\n",
       "      <td></td>\n",
       "      <td>106074</td>\n",
       "      <td></td>\n",
       "      <td></td>\n",
       "      <td>...</td>\n",
       "      <td>Maranghi, S., R2ES Lab, Department of Biotechn...</td>\n",
       "      <td>In recent decades, the close correlation betwe...</td>\n",
       "      <td>City; Complex system; Life cycle assessment; U...</td>\n",
       "      <td>Complex networks; Economic and social effects;...</td>\n",
       "      <td>Alberti, J., Balaguera, A., Brodhag, C., Fulla...</td>\n",
       "      <td>Article</td>\n",
       "      <td>Final</td>\n",
       "      <td></td>\n",
       "      <td>Scopus</td>\n",
       "      <td>2-s2.0-85077780375</td>\n",
       "    </tr>\n",
       "    <tr>\n",
       "      <td>1</td>\n",
       "      <td>Ezici B., Eğilmez G., Gedik R.</td>\n",
       "      <td>57212882626;55248346200;56358332700;</td>\n",
       "      <td>Assessing the eco-efficiency of U.S. manufactu...</td>\n",
       "      <td>2020</td>\n",
       "      <td>Journal of Cleaner Production</td>\n",
       "      <td>253</td>\n",
       "      <td></td>\n",
       "      <td>119630</td>\n",
       "      <td></td>\n",
       "      <td></td>\n",
       "      <td>...</td>\n",
       "      <td>Ezici, B., Dept. of Mechanical and Industrial ...</td>\n",
       "      <td>This study investigated the global supply chai...</td>\n",
       "      <td>Data envelopment analysis (DEA); Manufacturing...</td>\n",
       "      <td>Benchmarking; Data envelopment analysis; Econo...</td>\n",
       "      <td>Abbod, K., Multi-region Input-Output-Based Car...</td>\n",
       "      <td>Article</td>\n",
       "      <td>Final</td>\n",
       "      <td></td>\n",
       "      <td>Scopus</td>\n",
       "      <td>2-s2.0-85077448211</td>\n",
       "    </tr>\n",
       "  </tbody>\n",
       "</table>\n",
       "<p>2 rows × 25 columns</p>\n",
       "</div>"
      ],
      "text/plain": [
       "                                             Authors  \\\n",
       "0  Maranghi S., Parisi M.L., Facchini A., Rubino ...   \n",
       "1                     Ezici B., Eğilmez G., Gedik R.   \n",
       "\n",
       "                                        Author(s) ID  \\\n",
       "0  56161757600;55424879000;7102434045;7102614022;...   \n",
       "1               57212882626;55248346200;56358332700;   \n",
       "\n",
       "                                               Title  Year  \\\n",
       "0  Integrating urban metabolism and life cycle as...  2020   \n",
       "1  Assessing the eco-efficiency of U.S. manufactu...  2020   \n",
       "\n",
       "                    Source title Volume Issue Art. No. Page start Page end  \\\n",
       "0          Ecological Indicators    112         106074                       \n",
       "1  Journal of Cleaner Production    253         119630                       \n",
       "\n",
       "   ...                          Authors with affiliations  \\\n",
       "0  ...  Maranghi, S., R2ES Lab, Department of Biotechn...   \n",
       "1  ...  Ezici, B., Dept. of Mechanical and Industrial ...   \n",
       "\n",
       "                                            Abstract  \\\n",
       "0  In recent decades, the close correlation betwe...   \n",
       "1  This study investigated the global supply chai...   \n",
       "\n",
       "                                     Author Keywords  \\\n",
       "0  City; Complex system; Life cycle assessment; U...   \n",
       "1  Data envelopment analysis (DEA); Manufacturing...   \n",
       "\n",
       "                                      Index Keywords  \\\n",
       "0  Complex networks; Economic and social effects;...   \n",
       "1  Benchmarking; Data envelopment analysis; Econo...   \n",
       "\n",
       "                                          References Document Type  \\\n",
       "0  Alberti, J., Balaguera, A., Brodhag, C., Fulla...       Article   \n",
       "1  Abbod, K., Multi-region Input-Output-Based Car...       Article   \n",
       "\n",
       "  Publication Stage Access Type  Source                 EID  \n",
       "0             Final              Scopus  2-s2.0-85077780375  \n",
       "1             Final              Scopus  2-s2.0-85077448211  \n",
       "\n",
       "[2 rows x 25 columns]"
      ]
     },
     "execution_count": 45,
     "metadata": {},
     "output_type": "execute_result"
    }
   ],
   "source": [
    "#if a pandas object is requiered\n",
    "db_pd = db_parsed.to_pandas()\n",
    "db_pd.head(2)"
   ]
  },
  {
   "cell_type": "code",
   "execution_count": 48,
   "metadata": {},
   "outputs": [
    {
     "data": {
      "text/plain": [
       "['b0005',\n",
       " '0003777671',\n",
       " 'b0015',\n",
       " '84879275460',\n",
       " 'b0025',\n",
       " 'b0030',\n",
       " 'b0035',\n",
       " 'b0045',\n",
       " 'b0050',\n",
       " '1842470402',\n",
       " '85026519709',\n",
       " '84994158913',\n",
       " '85077773139',\n",
       " '85077779734',\n",
       " '85077783525',\n",
       " '85077769929',\n",
       " '84994527558',\n",
       " 'b0090',\n",
       " '85070554469',\n",
       " '85077768293',\n",
       " '0034472264',\n",
       " 'b0110',\n",
       " 'b0115',\n",
       " 'b0120',\n",
       " 'b0125',\n",
       " 'b0130',\n",
       " 'b0135',\n",
       " 'b0145',\n",
       " '84879659678',\n",
       " 'b0160',\n",
       " '85068059669',\n",
       " 'b0170',\n",
       " 'b0175',\n",
       " '0003633550',\n",
       " '84940040095',\n",
       " 'b0190',\n",
       " 'b0195',\n",
       " '84903538858',\n",
       " 'b0205',\n",
       " 'b0210',\n",
       " '84965044576',\n",
       " '85077782752',\n",
       " '34247845130',\n",
       " '80052519555',\n",
       " '9789211324945',\n",
       " '9789280731750',\n",
       " '0034982802',\n",
       " '77954397364',\n",
       " '0003649657',\n",
       " 'b0260',\n",
       " 'b0265',\n",
       " 'b0270',\n",
       " 'b0275',\n",
       " 'b0280']"
      ]
     },
     "execution_count": 48,
     "metadata": {},
     "output_type": "execute_result"
    }
   ],
   "source": [
    "##To obtain all the references EID from an article \n",
    "sr = searcher('config.json') #create searcher object, insert path of the auth keys\n",
    "sr.auth() #to authenticate\n",
    "\n",
    "##\n",
    "test_EID = db_parsed.EID(1) #>>>'85077780375'\n",
    "sr.get_bib(test_EID) #I still to debug to only pick SGR"
   ]
  },
  {
   "cell_type": "code",
   "execution_count": 59,
   "metadata": {},
   "outputs": [
    {
     "name": "stdout",
     "output_type": "stream",
     "text": [
      "Article  85077780375  has  54  references\n",
      "Article  85077448211  has  80  references\n",
      "Article  85077095053  has  111  references\n",
      "Article  85073819689  has  51  references\n",
      "Article  85077756822  has  98  references\n",
      "Article  85076522326  has  118  references\n",
      "Article  85076849725  has  20  references\n",
      "Article  85076609568  has  311  references\n",
      "Article  85075836467  has  42  references\n"
     ]
    }
   ],
   "source": [
    "#final vector: [article, [references]]\n",
    "full_list = []\n",
    "for i in range(1,10):\n",
    "    row = [db_parsed.EID(i),sr.get_bib(db_parsed.EID(i))]\n",
    "    full_list.append(row)\n",
    "    print('Article ', db_parsed.EID(i), ' has ', len(row[1]), ' references')\n",
    "#takes a lot of time, and I don't know if there are traffic restrictions "
   ]
  },
  {
   "cell_type": "code",
   "execution_count": null,
   "metadata": {},
   "outputs": [],
   "source": [
    "#searcher.get_bib can be used to iterate over a list of EID obtained directly from a elsapy query\n"
   ]
  }
 ],
 "metadata": {
  "kernelspec": {
   "display_name": "Python 3",
   "language": "python",
   "name": "python3"
  },
  "language_info": {
   "codemirror_mode": {
    "name": "ipython",
    "version": 3
   },
   "file_extension": ".py",
   "mimetype": "text/x-python",
   "name": "python",
   "nbconvert_exporter": "python",
   "pygments_lexer": "ipython3",
   "version": "3.7.4"
  }
 },
 "nbformat": 4,
 "nbformat_minor": 2
}
